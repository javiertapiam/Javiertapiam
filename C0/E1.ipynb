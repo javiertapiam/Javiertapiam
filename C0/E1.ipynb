{
  "nbformat": 4,
  "nbformat_minor": 0,
  "metadata": {
    "colab": {
      "provenance": []
    },
    "kernelspec": {
      "name": "python3",
      "display_name": "Python 3"
    },
    "language_info": {
      "name": "python"
    }
  },
  "cells": [
    {
      "cell_type": "code",
      "execution_count": 8,
      "metadata": {
        "colab": {
          "base_uri": "https://localhost:8080/"
        },
        "id": "hdgws1BVF_qK",
        "outputId": "48226ed0-86fa-4545-9d8c-961193422503"
      },
      "outputs": [
        {
          "output_type": "stream",
          "name": "stdout",
          "text": [
            "1\n",
            "2\n",
            "3\n",
            "4\n",
            "5\n",
            "6\n",
            "7\n",
            "8\n",
            "9\n",
            "10\n"
          ]
        }
      ],
      "source": [
        "for i in range(1,11):\n",
        "  print(i)"
      ]
    },
    {
      "cell_type": "markdown",
      "source": [
        "Este codigo funciona gracias al ciclo for en donde i va tomando e imprimiendo los numeros naturales desde el 1 hasta el 11 sin incluir a este (esto gracias a que se da un valor inicial en el rango del ciclo)."
      ],
      "metadata": {
        "id": "mhDF7XBWIGhY"
      }
    }
  ]
}