{
  "nbformat": 4,
  "nbformat_minor": 0,
  "metadata": {
    "colab": {
      "provenance": []
    },
    "kernelspec": {
      "name": "python3",
      "display_name": "Python 3"
    },
    "language_info": {
      "name": "python"
    }
  },
  "cells": [
    {
      "cell_type": "code",
      "execution_count": 2,
      "metadata": {
        "id": "Rbzw4S62z9cA"
      },
      "outputs": [],
      "source": [
        "import random\n",
        "import datetime"
      ]
    },
    {
      "cell_type": "code",
      "source": [
        "class Invernadero:\n",
        "  def __init__(self,luz):\n",
        "    self.luz = luz\n",
        "    self.planta = []\n",
        "  def cantidad_luz_hora(self):\n",
        "    pass\n",
        "  def t_exterior(self,L):\n",
        "    return int((int(L)*0.3) + random.randint(-10,10))\n",
        "  def agregar_planta(self,planta):\n",
        "    self.planta.append(planta)"
      ],
      "metadata": {
        "id": "XY0lGJly0M1u"
      },
      "execution_count": 21,
      "outputs": []
    },
    {
      "cell_type": "code",
      "source": [
        "class Planta:\n",
        "  def __init__(self,fecha_plantacion,humedad_optima,humedad_actual):\n",
        "    self.fecha_plantacion=datetime().fecha_plantacion\n",
        "    self.humedad_optima=humedad_optima\n",
        "    self.humedad_actual = 0\n",
        "\n",
        "    def regar(self,agua):\n",
        "      if self.humedad_actual<self.humedad_optima:\n",
        "        self.humedad_actual = self.humedad_optima\n",
        "    def crecer():\n",
        "      pass"
      ],
      "metadata": {
        "id": "s7UGFt7297TH"
      },
      "execution_count": 27,
      "outputs": []
    },
    {
      "cell_type": "markdown",
      "source": [
        "Definimos el metodo crecer en la clase planta para que en cada tipo de planta se comporte de distinta manera."
      ],
      "metadata": {
        "id": "Nfr453IZEGm1"
      }
    },
    {
      "cell_type": "code",
      "source": [
        "class lechuga(Planta):\n",
        "  def __init__(self,fecha_plantacion,humedad_optima,humedad_actual,n_hojas,tamano):\n",
        "    self.fecha_plantacion=datetime().fecha_plantacion\n",
        "    self.humedad_optima=humedad_optima\n",
        "    self.humedad_actual = 0\n",
        "    self.n_hojas = n_hojas\n",
        "    self.tamano= tamano\n",
        "  def calcular_tamano(self):\n",
        "    if self.n_hojas > 40:\n",
        "      self.tamano == \"grande\"\n",
        "    elif 10 <= self.n_hojas <= 40:\n",
        "      self.tamano= \"mediana\"\n",
        "    else:\n",
        "      self.tamano == \"chica\"\n",
        "  def cosechar(self,hojas_a_cosechar):\n",
        "    def __init__(self,hojas_a_cosechar):\n",
        "      if hojas_a_cosechar < self.n_hojas:\n",
        "        self.n_hojas-=hojas_a_cosechar\n",
        "      else:\n",
        "        self.n_hojas = 0\n",
        "        print(f\"No quedan mas hojas por cosechar\")"
      ],
      "metadata": {
        "id": "jhLMG4ISEYJ_"
      },
      "execution_count": 43,
      "outputs": []
    },
    {
      "cell_type": "code",
      "source": [
        "class tomate(Planta):\n",
        "  def __init__(self,fecha_plantacion,humedad_optima,humedad_actual,raza,n_tomates,acidez):\n",
        "    self.fecha_plantacion=datetime().fecha_plantacion\n",
        "    self.humedad_optima=humedad_optima\n",
        "    self.humedad_actual = 0\n",
        "    self.raza = raza\n",
        "    self.n_tomates=n_tomates\n",
        "    self.acidez=acidez\n",
        "\n",
        "    def cosechar(self,tomates_a_cosechar):\n",
        "      if self.raza == \"normal\":\n",
        "        self.n_tomates-=tomates_a_cosechar\n",
        "      elif self.raza == \"cherry\":\n",
        "        return f\"No puedes sacar tomates antes de medio dia\""
      ],
      "metadata": {
        "id": "5sg53eluINcH"
      },
      "execution_count": 44,
      "outputs": []
    },
    {
      "cell_type": "code",
      "source": [
        "class cilantro(Planta):\n",
        "  def __init__(self,fecha_plantacion,humedad_optima,humedad_actual,n_ramas):\n",
        "    self.n_ramas = n_ramas\n",
        "\n",
        "  def cosechar(self,ramas_a_cosechar):\n",
        "    if ramas_a_cosechar < self.n_ramas:\n",
        "      self.n_ramas-=ramas_a_cosechar\n",
        "    else:\n",
        "      self.n_hojas = 0\n",
        "      print(f\"No quedan mas ramas por cosechar\")"
      ],
      "metadata": {
        "id": "MKvUhITULzEp"
      },
      "execution_count": 48,
      "outputs": []
    },
    {
      "cell_type": "code",
      "source": [
        "class manzano(Planta):\n",
        "  def __init__(self,fecha_plantacion,humedad_optima,humedad_actual,n_manzanas,madurez):\n",
        "    self.n_manzanas = n_manzanas\n",
        "    self.madurez = madurez\n",
        "    def cosechar(self,manzanas_a_cosechar):\n",
        "      if self.madurez == \"madura\":\n",
        "        self.n_manzanas-=manzanas_a_cosechar\n",
        "      elif self.madurez == \"verde\":\n",
        "        return f\"No se pueden cosechar manzanas verdes\""
      ],
      "metadata": {
        "id": "sMPMC_YE9h_k"
      },
      "execution_count": 49,
      "outputs": []
    },
    {
      "cell_type": "code",
      "source": [
        "class sensorhumedad:\n",
        "  def __init__(self,ultima_medicion):\n",
        "    self.ultima_medicion = ultima_medicion\n",
        "\n",
        "    def medir(self):\n",
        "      humedad = self.ultima_medicion - random.randint(1,30)\n",
        "      return humedad"
      ],
      "metadata": {
        "id": "hdwU06PiOXzi"
      },
      "execution_count": 51,
      "outputs": []
    },
    {
      "cell_type": "code",
      "source": [
        "class sensortemperatura:\n",
        "  def __init__(self,t_aire):\n",
        "    self.t_aire = t_aire\n",
        "\n",
        "    def medir(self):\n",
        "      t = self.t_aire - random.randint(1,5)\n",
        "      return t"
      ],
      "metadata": {
        "id": "miQaAkKDQn_c"
      },
      "execution_count": 52,
      "outputs": []
    },
    {
      "cell_type": "code",
      "source": [
        "class sensorluz:\n",
        "  def __init__(self,luz):\n",
        "    self.luz = luz\n",
        "\n",
        "    def medir(self):\n",
        "      medidor = self.luz - random.randint(5,10)\n",
        "      return medidor"
      ],
      "metadata": {
        "id": "fxD7p58ARIzf"
      },
      "execution_count": 53,
      "outputs": []
    },
    {
      "cell_type": "code",
      "source": [],
      "metadata": {
        "id": "y3CG5nXoRidb"
      },
      "execution_count": null,
      "outputs": []
    }
  ]
}