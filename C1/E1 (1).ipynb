{
  "nbformat": 4,
  "nbformat_minor": 0,
  "metadata": {
    "colab": {
      "provenance": []
    },
    "kernelspec": {
      "name": "python3",
      "display_name": "Python 3"
    },
    "language_info": {
      "name": "python"
    }
  },
  "cells": [
    {
      "cell_type": "markdown",
      "source": [
        "Ejercicio Formativo 1 Capítulo 1, Javier Tapia\n",
        "Definimos la clase a trabajar, la cuál será Alimentos."
      ],
      "metadata": {
        "id": "a6uYk7Ps_3Jg"
      }
    },
    {
      "cell_type": "code",
      "source": [
        "class Alimento:\n",
        "    def __init__(self,nombre):\n",
        "        self.nombre = nombre\n",
        "        self.caducado = False\n",
        "    def comida_completa(self):\n",
        "      pass\n",
        "    def caduco(self):\n",
        "      if not self.caducado:\n",
        "        self.caducado = True\n",
        "    def __str__(self):\n",
        "      return f\"El alimento ingresado es {self.nombre}\"\n",
        "\n",
        "class bebebestible(Alimento):\n",
        "  def __init__(self,bebestible):\n",
        "    self.bebestible = bebestible\n",
        "  def __str__(self):\n",
        "    return f\"El almuerzo es {self.nombre} y para beber hay {self.bebestible}\"\n",
        "\n",
        "\n",
        "\n",
        "\n",
        "\n",
        "\n",
        ""
      ],
      "metadata": {
        "id": "p-dDGyeRAQSm"
      },
      "execution_count": 3,
      "outputs": []
    },
    {
      "cell_type": "code",
      "source": [],
      "metadata": {
        "id": "buAiJzlqASSf"
      },
      "execution_count": null,
      "outputs": []
    }
  ]
}